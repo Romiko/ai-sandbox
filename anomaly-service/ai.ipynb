{
 "cells": [
  {
   "cell_type": "code",
   "execution_count": 1,
   "id": "6880fd32-3703-428a-84e0-868a7c1106bb",
   "metadata": {},
   "outputs": [
    {
     "name": "stdout",
     "output_type": "stream",
     "text": [
      "Anomaly detected at index:      4\n",
      "Anomaly detected at index:      22\n"
     ]
    }
   ],
   "source": [
    "from azure.ai.anomalydetector import AnomalyDetectorClient\n",
    "from azure.ai.anomalydetector.models import *\n",
    "from azure.core.credentials import AzureKeyCredential\n",
    "import pandas as pd\n",
    "import os\n",
    "\n",
    "API_KEY = os.environ['ANOMALY_DETECTOR_API_KEY']\n",
    "ENDPOINT = os.environ['ANOMALY_DETECTOR_ENDPOINT']\n",
    "DATA_PATH = \"c:\\\\users\\\\romik\\\\ai\\\\anomaly-service\\\\energy-data.csv\"\n",
    "\n",
    "client = AnomalyDetectorClient(ENDPOINT, AzureKeyCredential(API_KEY))\n",
    "\n",
    "series = []\n",
    "data_file = pd.read_csv(DATA_PATH, header=None, encoding='utf-8', date_parser=[0])\n",
    "for index, row in data_file.iterrows():\n",
    "    series.append(TimeSeriesPoint(timestamp=row[0], value=row[1]))\n",
    "\n",
    "request = UnivariateDetectionOptions(series=series, granularity=TimeGranularity.DAILY)\n",
    "\n",
    "change_point_response = client.detect_univariate_change_point(request)\n",
    "anomaly_response = client.detect_univariate_entire_series(request)\n",
    "\n",
    "for i in range(len(data_file.values)):\n",
    "    if (change_point_response.is_change_point[i]):\n",
    "        print(\"Change point detected at index: \"+ str(i))\n",
    "    elif (anomaly_response.is_anomaly[i]):\n",
    "        print(\"Anomaly detected at index:      \"+ str(i))"
   ]
  },
  {
   "cell_type": "code",
   "execution_count": null,
   "id": "f4228c42-20e7-47ac-9422-48b0fe672e8f",
   "metadata": {},
   "outputs": [],
   "source": []
  },
  {
   "cell_type": "code",
   "execution_count": null,
   "id": "d5060102-5d6f-4bbd-a86c-18e2a8ddd9b7",
   "metadata": {},
   "outputs": [],
   "source": []
  }
 ],
 "metadata": {
  "kernelspec": {
   "display_name": "Python 3 (ipykernel)",
   "language": "python",
   "name": "python3"
  },
  "language_info": {
   "codemirror_mode": {
    "name": "ipython",
    "version": 3
   },
   "file_extension": ".py",
   "mimetype": "text/x-python",
   "name": "python",
   "nbconvert_exporter": "python",
   "pygments_lexer": "ipython3",
   "version": "3.10.9"
  }
 },
 "nbformat": 4,
 "nbformat_minor": 5
}
